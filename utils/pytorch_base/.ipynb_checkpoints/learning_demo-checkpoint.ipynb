{
 "cells": [
  {
   "cell_type": "code",
   "execution_count": 1,
   "id": "7c678a01",
   "metadata": {},
   "outputs": [],
   "source": [
    "import torch"
   ]
  },
  {
   "cell_type": "code",
   "execution_count": 4,
   "id": "74e14867",
   "metadata": {},
   "outputs": [],
   "source": [
    "x = torch.arange(12,dtype=torch.float32).reshape([3,4])"
   ]
  },
  {
   "cell_type": "code",
   "execution_count": 5,
   "id": "dd89eb79",
   "metadata": {},
   "outputs": [
    {
     "data": {
      "text/plain": [
       "tensor([[ 0.,  1.,  2.,  3.],\n",
       "        [ 4.,  5.,  6.,  7.],\n",
       "        [ 8.,  9., 10., 11.]])"
      ]
     },
     "execution_count": 5,
     "metadata": {},
     "output_type": "execute_result"
    }
   ],
   "source": [
    "x"
   ]
  },
  {
   "cell_type": "code",
   "execution_count": 6,
   "id": "03ab788a",
   "metadata": {},
   "outputs": [],
   "source": [
    "y = torch.randn([3,4])"
   ]
  },
  {
   "cell_type": "code",
   "execution_count": 7,
   "id": "3c796ecc",
   "metadata": {},
   "outputs": [
    {
     "data": {
      "text/plain": [
       "tensor([[ 0.6095,  1.1102,  0.7320,  1.1097],\n",
       "        [-0.3113,  1.5947, -0.1701, -1.7080],\n",
       "        [-0.2898, -0.2809, -0.8378,  0.0523]])"
      ]
     },
     "execution_count": 7,
     "metadata": {},
     "output_type": "execute_result"
    }
   ],
   "source": [
    "y"
   ]
  },
  {
   "cell_type": "code",
   "execution_count": 11,
   "id": "c588e5a2",
   "metadata": {},
   "outputs": [],
   "source": [
    "z = torch.cat((x,y),dim=1) # dim=0表示横插，dim=1表示纵插"
   ]
  },
  {
   "cell_type": "code",
   "execution_count": 14,
   "id": "2e387c34",
   "metadata": {},
   "outputs": [
    {
     "data": {
      "text/plain": [
       "torch.Size([12, 12])"
      ]
     },
     "execution_count": 14,
     "metadata": {},
     "output_type": "execute_result"
    }
   ],
   "source": [
    "(x.reshape(12)+y.reshape((12,1))).shape # 广播机制"
   ]
  },
  {
   "cell_type": "code",
   "execution_count": null,
   "id": "dfb2e712",
   "metadata": {},
   "outputs": [],
   "source": []
  }
 ],
 "metadata": {
  "kernelspec": {
   "display_name": "Python 3 (ipykernel)",
   "language": "python",
   "name": "python3"
  },
  "language_info": {
   "codemirror_mode": {
    "name": "ipython",
    "version": 3
   },
   "file_extension": ".py",
   "mimetype": "text/x-python",
   "name": "python",
   "nbconvert_exporter": "python",
   "pygments_lexer": "ipython3",
   "version": "3.9.13"
  }
 },
 "nbformat": 4,
 "nbformat_minor": 5
}
